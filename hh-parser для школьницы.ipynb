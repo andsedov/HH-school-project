{
 "cells": [
  {
   "cell_type": "markdown",
   "metadata": {},
   "source": [
    "## HH-parser\n",
    "Первый шаг в написании любого кода – подключение необходимых библиотек. Библиотека представляет собой набор готовых функций, их использование сильно упрощает написание кода."
   ]
  },
  {
   "cell_type": "code",
   "execution_count": 8,
   "metadata": {
    "collapsed": true
   },
   "outputs": [],
   "source": [
    "import requests #библиотека для запросов к api\n",
    "import json #запрос к api позволяет нам получить (возвращает) некий ответ в формате json. Подключим бибилотеку для работы с такими форматами\n",
    "import re #библиотека для регулярных выражений. В двух словах не объяснить\n",
    "import pandas as pd #библиотека для удобной работы с таблицами – пожалуй, самая часто используемая бибилтека в Питоне\n",
    "import time #подключим это, чтобы установить временную задержку после каждого обращения к api, чтобы нас не забанили"
   ]
  },
  {
   "cell_type": "code",
   "execution_count": 9,
   "metadata": {
    "collapsed": true
   },
   "outputs": [],
   "source": [
    "from requests.adapters import HTTPAdapter\n",
    "from requests.packages.urllib3.poolmanager import PoolManager\n",
    "import ssl\n",
    "\n",
    "class MyAdapter(HTTPAdapter):\n",
    "    def init_poolmanager(self, connections, maxsize, block=False):\n",
    "        self.poolmanager = PoolManager(num_pools=connections,\n",
    "                                       maxsize=maxsize,\n",
    "                                       block=block,\n",
    "                                       ssl_version=ssl.PROTOCOL_TLSv1)"
   ]
  },
  {
   "cell_type": "markdown",
   "metadata": {},
   "source": [
    "Напишем простой код, чтобы понять, как вообще работает api, как к нему обращаться, что он возвращает и что нам из этого нужно взять"
   ]
  },
  {
   "cell_type": "code",
   "execution_count": 10,
   "metadata": {
    "collapsed": false
   },
   "outputs": [],
   "source": [
    "url = 'https://api.hh.ru/vacancies/15700006' #пример вакансии, можно пройти по ссылке и посмотреть\n",
    "job = requests.get(url).content.decode(encoding='utf-8').lower() \n"
   ]
  },
  {
   "cell_type": "markdown",
   "metadata": {},
   "source": [
    "Код выше делает следующее: \n",
    "* Вызывается функция get из библиотеки requests, которая обращается к указанной выше ссылке. \n",
    "* Функция content возвращает содержание заданной web-страницы. В нашем случае это содержании вакансии с id 15700006.\n",
    "* Функция decode устанавливает кодировку страницы, чтобы не было иероглифов.\n",
    "* Функция lower() делает все заглавные буквы строчными, например Астрахань -> астрахань"
   ]
  },
  {
   "cell_type": "code",
   "execution_count": 11,
   "metadata": {
    "collapsed": false
   },
   "outputs": [
    {
     "data": {
      "text/plain": [
       "{'accept_handicapped': False,\n",
       " 'address': None,\n",
       " 'allow_messages': True,\n",
       " 'alternate_url': 'https://hh.ru/vacancy/15700006',\n",
       " 'apply_alternate_url': 'https://hh.ru/applicant/vacancy_response?vacancyid=15700006',\n",
       " 'archived': True,\n",
       " 'area': {'id': '54',\n",
       "  'name': 'красноярск',\n",
       "  'url': 'https://api.hh.ru/areas/54'},\n",
       " 'billing_type': {'id': 'free', 'name': 'бесплатная'},\n",
       " 'branded_description': None,\n",
       " 'code': None,\n",
       " 'contacts': None,\n",
       " 'created_at': '2016-01-18t05:35:38+0300',\n",
       " 'department': None,\n",
       " 'description': '<strong>требования:</strong> <ul> <li>грамотная поставленная речь;</li> <li>общая культура общения;</li> <li>умение вести деловую беседу;</li> <li>экономическое образование приветствуется;</li> <li>хорошие навыки работы в среде интернет;</li> <li>умение пользоваться офисными программами (ms office); умение пользоваться офисной и орг. техникой;</li> <li>резюме с фото обязательно.</li> </ul><br /><strong>обязанности:</strong> <ul> <li>прием телефонных звонков;</li> <li>документооборот.</li> </ul><br /><strong>условия работы:</strong> <ul> <li>пятидневка (сб., вс. - выходные; с 10-00 до 18-00;</li> <li>обед с 13-00 до 14-00);</li> <li>оплата своевременно;</li> </ul>',\n",
       " 'employer': {'alternate_url': 'https://hh.ru/employer/2125629',\n",
       "  'id': '2125629',\n",
       "  'logo_urls': None,\n",
       "  'name': 'тпк крс',\n",
       "  'url': 'https://api.hh.ru/employers/2125629',\n",
       "  'vacancies_url': 'https://api.hh.ru/vacancies?employer_id=2125629'},\n",
       " 'employment': {'id': 'full', 'name': 'полная занятость'},\n",
       " 'experience': {'id': 'noexperience', 'name': 'нет опыта'},\n",
       " 'hidden': False,\n",
       " 'id': '15700006',\n",
       " 'key_skills': [],\n",
       " 'name': 'секретарь / делопроизводитель',\n",
       " 'negotiations_url': None,\n",
       " 'premium': False,\n",
       " 'published_at': '2016-01-18t05:35:38+0300',\n",
       " 'quick_responses_allowed': True,\n",
       " 'relations': [],\n",
       " 'response_letter_required': False,\n",
       " 'response_url': None,\n",
       " 'salary': {'currency': 'rur', 'from': 20000, 'to': 22000},\n",
       " 'schedule': {'id': 'fullday', 'name': 'полный день'},\n",
       " 'site': {'id': 'hh', 'name': 'hh.ru'},\n",
       " 'specializations': [{'id': '4.429',\n",
       "   'name': 'делопроизводство',\n",
       "   'profarea_id': '4',\n",
       "   'profarea_name': 'административный персонал'},\n",
       "  {'id': '4.278',\n",
       "   'name': 'сотрудник call-центра',\n",
       "   'profarea_id': '4',\n",
       "   'profarea_name': 'административный персонал'},\n",
       "  {'id': '4.264',\n",
       "   'name': 'секретарь',\n",
       "   'profarea_id': '4',\n",
       "   'profarea_name': 'административный персонал'}],\n",
       " 'suitable_resumes_url': None,\n",
       " 'test': None,\n",
       " 'type': {'id': 'open', 'name': 'открытая'}}"
      ]
     },
     "execution_count": 11,
     "metadata": {},
     "output_type": "execute_result"
    }
   ],
   "source": [
    "job = json.loads(job) #чтобы содержание вакансии выдавалось в структурированном виде, загрузим страницу с помощью json-загрузчика\n",
    "job #простой вызов переменной отдельной строкой печает нам ее содержание:"
   ]
  },
  {
   "cell_type": "markdown",
   "metadata": {},
   "source": [
    "Мы можем видеть полное содержание вакансии. Оно представлено в виде \"параметр\": значение.\n",
    "Напишем функцию, которая возвращает нам из этого некрасивого массива данных аккуратную таблицу с необходимыми нам полями."
   ]
  },
  {
   "cell_type": "code",
   "execution_count": 12,
   "metadata": {
    "collapsed": false
   },
   "outputs": [
    {
     "data": {
      "text/html": [
       "<div>\n",
       "<table border=\"1\" class=\"dataframe\">\n",
       "  <thead>\n",
       "    <tr style=\"text-align: right;\">\n",
       "      <th></th>\n",
       "      <th>address</th>\n",
       "      <th>area_id</th>\n",
       "      <th>area_name</th>\n",
       "      <th>desc</th>\n",
       "      <th>employment_id</th>\n",
       "      <th>employment_name</th>\n",
       "      <th>experience_id</th>\n",
       "      <th>experience_name</th>\n",
       "      <th>gen_id</th>\n",
       "      <th>job_name</th>\n",
       "      <th>key_skills</th>\n",
       "      <th>salary</th>\n",
       "      <th>specialization_id</th>\n",
       "      <th>specialization_name</th>\n",
       "      <th>published_at</th>\n",
       "    </tr>\n",
       "  </thead>\n",
       "  <tbody>\n",
       "    <tr>\n",
       "      <th>0</th>\n",
       "      <td>None</td>\n",
       "      <td>54</td>\n",
       "      <td>красноярск</td>\n",
       "      <td>требования:  грамотная поставленная речь; обща...</td>\n",
       "      <td>full</td>\n",
       "      <td>полная занятость</td>\n",
       "      <td>noexperience</td>\n",
       "      <td>нет опыта</td>\n",
       "      <td>15700006</td>\n",
       "      <td>секретарь / делопроизводитель</td>\n",
       "      <td></td>\n",
       "      <td>21000</td>\n",
       "      <td>4</td>\n",
       "      <td>делопроизводство</td>\n",
       "      <td>2016-01-18</td>\n",
       "    </tr>\n",
       "  </tbody>\n",
       "</table>\n",
       "</div>"
      ],
      "text/plain": [
       "  address area_id   area_name  \\\n",
       "0    None      54  красноярск   \n",
       "\n",
       "                                                desc employment_id  \\\n",
       "0  требования:  грамотная поставленная речь; обща...          full   \n",
       "\n",
       "    employment_name experience_id experience_name    gen_id  \\\n",
       "0  полная занятость  noexperience       нет опыта  15700006   \n",
       "\n",
       "                        job_name key_skills  salary specialization_id  \\\n",
       "0  секретарь / делопроизводитель              21000                 4   \n",
       "\n",
       "  specialization_name published_at  \n",
       "0    делопроизводство   2016-01-18  "
      ]
     },
     "execution_count": 12,
     "metadata": {},
     "output_type": "execute_result"
    }
   ],
   "source": [
    "def parse(job):\n",
    "    row_data = {}\n",
    "    row_data['gen_id'] = job['id']\n",
    "    row_data['address'] = job['address']\n",
    "    row_data['area_id'] = job['area']['id']\n",
    "    row_data['area_name'] = job['area']['name']\n",
    "    desc = job['description']\n",
    "    desc = re.sub('<[^<]+?>', '', desc)\n",
    "    row_data['desc'] = desc\n",
    "    row_data['employment_id'] = job['employment']['id']\n",
    "    row_data['employment_name'] = job['employment']['name']\n",
    "    row_data['experience_id'] = job['experience']['id']\n",
    "    row_data['experience_name'] = job['experience']['name']\n",
    "    row_data['job_name'] = job['name']\n",
    "    salaryMin = job['salary']['from']\n",
    "    salaryMax = job['salary']['to']\n",
    "    try:\n",
    "        row_data['specialization_id'] = job['specializations'][0]['profarea_id']\n",
    "    except:\n",
    "        row_data['specialization_id'] = 0\n",
    "    row_data['specialization_name'] = job['specializations'][0]['name']\n",
    "    row_data['published_at'] = job['published_at'][:10]\n",
    "    if salaryMax == None:\n",
    "        salaryMax = salaryMin\n",
    "    elif salaryMin == None:\n",
    "        salaryMin = salaryMax\n",
    "    salary = 0.5 * (salaryMin + salaryMax)\n",
    "    row_data['salary'] = int(salary)\n",
    "    skills = ''\n",
    "    for i in range(len(job['key_skills'])):\n",
    "        if i < len(job['key_skills'])-1:\n",
    "            skills += str(job['key_skills'][i]['name']) + ', '\n",
    "        else:\n",
    "            skills += str(job['key_skills'][i]['name']) + '.'\n",
    "    row_data['key_skills'] = skills\n",
    "    return row_data\n",
    "row_data = parse(job)\n",
    "pd.DataFrame(row_data, columns=['address', 'area_id', 'area_name', 'desc', \n",
    "                                'employment_id', 'employment_name', 'experience_id', \n",
    "                               'experience_name', 'gen_id', 'job_name', 'key_skills','salary', \n",
    "                                'specialization_id', 'specialization_name', 'published_at'], index=[0])\n",
    "\n"
   ]
  },
  {
   "cell_type": "markdown",
   "metadata": {},
   "source": [
    "Теперь нам нужно сделать то же самое 4 миллиона раз. Запустим для этого цикл.\n",
    "Как мы договорились ранее, разобьем 4 миллиона на доли по 250 тысяч, и будем парсить по частям."
   ]
  },
  {
   "cell_type": "code",
   "execution_count": null,
   "metadata": {
    "collapsed": false
   },
   "outputs": [
    {
     "name": "stdout",
     "output_type": "stream",
     "text": [
      " 0.0% completed\n",
      "ERROR! Session/line number was not unique in database. History logging moved to new session 121\n",
      " 0.0% completed\n",
      " 0.0% completed\n",
      " 0.1% completed\n",
      " 0.1% completed\n",
      " 0.1% completed"
     ]
    }
   ],
   "source": [
    "NPAGES = 250000\n",
    "start = 15500000+NPAGES*3\n",
    "#stop = 19063308\n",
    "#NPAGES = stop-start\n",
    "rows = []\n",
    "j = 0\n",
    "for i in range(NPAGES):\n",
    "    if i % 50 == 0:\n",
    "        print('{0:5.1%} completed'.format(i/NPAGES))       \n",
    "    urltemplate = 'https://api.hh.ru/vacancies/{}'\n",
    "    url = urltemplate.format(start+i)\n",
    "    time.sleep(0.05)\n",
    "    job = requests.get(url).content.decode(encoding='utf-8').lower()\n",
    "    job = json.loads(job)\n",
    "    try:\n",
    "        row_data = parse(job)       \n",
    "    except:\n",
    "        row_data = None\n",
    "    rows += [pd.DataFrame(row_data, columns=['address', 'area_id', 'area_name', 'desc', \n",
    "                                'employment_id', 'employment_name', 'experience_id', \n",
    "                               'experience_name', 'gen_id', 'job_name', 'key_skills','salary', \n",
    "                                'specialization_id', 'specialization_name', 'published_at'], index=[0])]\n",
    "    j += 1\n",
    "    \n",
    "\n",
    "df = pd.concat(rows, axis=0)\n",
    "df_clean = df[df['desc'].notnull()]\n",
    "df_clean.to_csv('/Users/user/Desktop/цмф/headhunter project/all_vacancies_p4.csv') #вместо path напиши полный путь к папке, в которую ты это сохраняешь\n",
    "df_ao = df_clean[(df_clean['area_id']=='15')|(df_clean['area_id']=='1506')|\n",
    "                (df_clean['area_id']=='1507')|(df_clean['area_id']=='1508')|\n",
    "                (df_clean['area_id']=='4594')|(df_clean['area_id']=='1509')|\n",
    "                (df_clean['area_id']=='1510')]\n",
    "df_ao.to_csv('/Users/user/Desktop/цмф/headhunter project/ao_vacancies_p4.csv') #вместо path напиши полный путь к папке, в которую ты это сохраняешь\n"
   ]
  },
  {
   "cell_type": "markdown",
   "metadata": {},
   "source": []
  }
 ],
 "metadata": {
  "kernelspec": {
   "display_name": "Python 3",
   "language": "python",
   "name": "python3"
  },
  "language_info": {
   "codemirror_mode": {
    "name": "ipython",
    "version": 3
   },
   "file_extension": ".py",
   "mimetype": "text/x-python",
   "name": "python",
   "nbconvert_exporter": "python",
   "pygments_lexer": "ipython3",
   "version": "3.5.1"
  }
 },
 "nbformat": 4,
 "nbformat_minor": 0
}
